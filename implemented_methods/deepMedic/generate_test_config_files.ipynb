{
 "cells": [
  {
   "cell_type": "markdown",
   "metadata": {},
   "source": [
    "# Generate test config files\n",
    "\n",
    "Purpose: To generate config files for testing. \n",
    "\n",
    "First, each final model is tested on the validation dataset of that training. \n",
    "\n",
    "Then test is run on the full training dataset. \n",
    "\n",
    "The final test is run on the previously unseen r_196 dataset. Here we compare to other models. "
   ]
  },
  {
   "cell_type": "code",
   "execution_count": null,
   "metadata": {},
   "outputs": [],
   "source": [
    "# The validation files for each set are located in /media/bizon/data2tb/deep_medic/homes/kovacs/project_data/hnc-auto-contouring/deepMedic/config_files/train/validation\n",
    "\n"
   ]
  }
 ],
 "metadata": {
  "interpreter": {
   "hash": "f15886cd8b12a18a8b1aad558daa784c79bb1174f3258c3f4517d856494c4dc3"
  },
  "kernelspec": {
   "display_name": "Python 3.8.8 ('nn_unet_cnl1')",
   "language": "python",
   "name": "python3"
  },
  "language_info": {
   "name": "python",
   "version": "3.8.8"
  },
  "orig_nbformat": 4
 },
 "nbformat": 4,
 "nbformat_minor": 2
}

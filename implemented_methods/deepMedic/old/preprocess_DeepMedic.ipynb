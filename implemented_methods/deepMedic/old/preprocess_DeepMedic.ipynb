{
 "cells": [
  {
   "cell_type": "markdown",
   "metadata": {},
   "source": [
    "# Preprocessing data for DeepMedic\n",
    "\n",
    "Loading packages needed."
   ]
  },
  {
   "cell_type": "code",
   "execution_count": 2,
   "metadata": {},
   "outputs": [],
   "source": [
    "from MEDIcaTe.nii_resampling import *"
   ]
  },
  {
   "cell_type": "markdown",
   "metadata": {},
   "source": [
    "We first create a \"raw-data-base\" explicitly for DeepMedic where all data is resampled to same size.\n",
    "\n",
    "Here we will use the medican voxel size of the entire dataset. \n",
    "Go through all images and get voxel sizes. Then get the median of this data. \n",
    "\n",
    "This script assumes that the 'path_to_data' only holds nifty files and that these are named according to the convention: \n",
    "<dataset_name>_<pt_num>_<modality_code>.nii.gz\n",
    "\n",
    "In our data these are:\n",
    "dataset_name = 'HNC01'\n",
    "pt_num = from 000 up to 835\n",
    "modality code = 0000 for CT and 0001 for PET"
   ]
  },
  {
   "cell_type": "code",
   "execution_count": 3,
   "metadata": {},
   "outputs": [],
   "source": [
    "path_to_data = '/homes/kovacs/project_data/hnc-auto-contouring/nnUNet/nnUNet_raw_data_base/nnUNet_raw_data/Task500_HNC01/imagesTr'\n",
    "x_all = []\n",
    "y_all = []\n",
    "z_all = []\n",
    "\n",
    "# Run through all patient CT cases and get the pixel dimensions\n",
    "for i,f in enumerate(listdir(path_to_data)):\n",
    "    if f[-11:-7] == '0000':\n",
    "        x, y, z = find_pix_dim(join(path_to_data,f)) # \n",
    "        x_all.append(x)\n",
    "        y_all.append(y)\n",
    "        z_all.append(z)"
   ]
  },
  {
   "cell_type": "code",
   "execution_count": 4,
   "metadata": {},
   "outputs": [
    {
     "name": "stdout",
     "output_type": "stream",
     "text": [
      "The selected resample voxel size is (x,y,z) = (0.9765625, 0.9765625, 2.0)\n"
     ]
    }
   ],
   "source": [
    "median_x = np.median(x_all)\n",
    "median_y = np.median(y_all)\n",
    "median_z = np.median(z_all)\n",
    "\n",
    "print(f'The selected resample voxel size is (x,y,z) = ({median_x}, {median_y}, {median_z})')"
   ]
  },
  {
   "cell_type": "markdown",
   "metadata": {},
   "source": [
    "We now have the size we wish to resample to. \n",
    "We perform the resampling in the following step: "
   ]
  },
  {
   "cell_type": "code",
   "execution_count": 1,
   "metadata": {},
   "outputs": [
    {
     "ename": "NameError",
     "evalue": "name 'median_x' is not defined",
     "output_type": "error",
     "traceback": [
      "\u001b[0;31m---------------------------------------------------------------------------\u001b[0m",
      "\u001b[0;31mNameError\u001b[0m                                 Traceback (most recent call last)",
      "\u001b[0;32m<ipython-input-1-d4d29459d309>\u001b[0m in \u001b[0;36m<module>\u001b[0;34m\u001b[0m\n\u001b[1;32m      1\u001b[0m \u001b[0moutput_path\u001b[0m \u001b[0;34m=\u001b[0m \u001b[0;34m'/homes/kovacs/project_data/hnc-auto-contouring/deepMedic/data_nifty/d_train_raw_data_base/images'\u001b[0m\u001b[0;34m\u001b[0m\u001b[0;34m\u001b[0m\u001b[0m\n\u001b[0;32m----> 2\u001b[0;31m \u001b[0mvoxel_size\u001b[0m \u001b[0;34m=\u001b[0m \u001b[0;34m(\u001b[0m\u001b[0mmedian_x\u001b[0m\u001b[0;34m,\u001b[0m \u001b[0mmedian_y\u001b[0m\u001b[0;34m,\u001b[0m \u001b[0mmedian_z\u001b[0m\u001b[0;34m)\u001b[0m\u001b[0;34m\u001b[0m\u001b[0;34m\u001b[0m\u001b[0m\n\u001b[0m\u001b[1;32m      3\u001b[0m \u001b[0;32mfor\u001b[0m \u001b[0mi\u001b[0m\u001b[0;34m,\u001b[0m\u001b[0mf\u001b[0m \u001b[0;32min\u001b[0m \u001b[0menumerate\u001b[0m\u001b[0;34m(\u001b[0m\u001b[0mlistdir\u001b[0m\u001b[0;34m(\u001b[0m\u001b[0mpath_to_data\u001b[0m\u001b[0;34m)\u001b[0m\u001b[0;34m)\u001b[0m\u001b[0;34m:\u001b[0m \u001b[0;31m# go through all files on path\u001b[0m\u001b[0;34m\u001b[0m\u001b[0;34m\u001b[0m\u001b[0m\n\u001b[1;32m      4\u001b[0m     \u001b[0mfile_to_resample\u001b[0m \u001b[0;34m=\u001b[0m \u001b[0mjoin\u001b[0m\u001b[0;34m(\u001b[0m\u001b[0mpath_to_data\u001b[0m\u001b[0;34m,\u001b[0m\u001b[0mf\u001b[0m\u001b[0;34m)\u001b[0m\u001b[0;34m\u001b[0m\u001b[0;34m\u001b[0m\u001b[0m\n\u001b[1;32m      5\u001b[0m     \u001b[0moutput_file\u001b[0m \u001b[0;34m=\u001b[0m \u001b[0mjoin\u001b[0m\u001b[0;34m(\u001b[0m\u001b[0moutput_path\u001b[0m\u001b[0;34m,\u001b[0m\u001b[0mf\u001b[0m\u001b[0;34m)\u001b[0m\u001b[0;34m\u001b[0m\u001b[0;34m\u001b[0m\u001b[0m\n",
      "\u001b[0;31mNameError\u001b[0m: name 'median_x' is not defined"
     ]
    }
   ],
   "source": [
    "output_path = '/homes/kovacs/project_data/hnc-auto-contouring/deepMedic/data_nifty/d_train_raw_data_base/images'\n",
    "voxel_size = (median_x, median_y, median_z)\n",
    "for i,f in enumerate(listdir(path_to_data)): # go through all files on path\n",
    "    file_to_resample = join(path_to_data,f)\n",
    "    output_file = join(output_path,f)\n",
    "    if not isfile(output_file): # only process files if not created aready\n",
    "        resample(join(path_to_data,f), output_path, voxel_size, verbose = False)\n"
   ]
  },
  {
   "cell_type": "markdown",
   "metadata": {},
   "source": [
    "Generate ROIS and visualise"
   ]
  },
  {
   "cell_type": "code",
   "execution_count": 4,
   "metadata": {},
   "outputs": [],
   "source": [
    "# Generetng the ROIS\n",
    "destination_path = '/homes/kovacs/project_data/hnc-auto-contouring/deepMedic/data_nifty/d_train/rois'\n",
    "pt_images_nifty = '/homes/kovacs/project_data/hnc-auto-contouring/deepMedic/data_nifty/d_train_raw_data_base/images/'\n",
    "#generate_rois_dm_pt(pt_image_nifty, destination_path)\n",
    "\n",
    "# go through all cases and generate the roi nifty's\n",
    "for i, nifty_image in enumerate(listdir(pt_images_nifty)):\n",
    "    cur_nifty_image = join(pt_images_nifty, nifty_image)\n",
    "    if nifty_image[-11:-7] == '0001': # only run for PET files\n",
    "        generate_rois_dm_pt(cur_nifty_image, destination_path)"
   ]
  },
  {
   "cell_type": "code",
   "execution_count": 8,
   "metadata": {},
   "outputs": [
    {
     "data": {
      "text/plain": [
       "'0000'"
      ]
     },
     "execution_count": 8,
     "metadata": {},
     "output_type": "execute_result"
    }
   ],
   "source": [
    "nifty_image[-11:-7]"
   ]
  },
  {
   "cell_type": "code",
   "execution_count": 3,
   "metadata": {},
   "outputs": [
    {
     "data": {
      "text/plain": [
       "'visualization(final_path, ct_path=ct_path, \\n                pet_path=pet_path, label1_path=label1_path, \\n                label2_path=label2_path) # ,'"
      ]
     },
     "execution_count": 3,
     "metadata": {},
     "output_type": "execute_result"
    }
   ],
   "source": [
    "# Visualizing a single ROI \n",
    "final_path = '/homes/kovacs/project_data/hnc-auto-contouring/deepMedic/data_nifty/d_train_raw_data_base/visualization'\n",
    "ct_path = '/homes/kovacs/project_data/hnc-auto-contouring/deepMedic/data_nifty/d_train_raw_data_base/images/HNC01_001_0000.nii.gz'\n",
    "pet_path = '/homes/kovacs/project_data/hnc-auto-contouring/deepMedic/data_nifty/d_train_raw_data_base/images/HNC01_001_0001.nii.gz'\n",
    "label1_path = '/homes/kovacs/project_data/hnc-auto-contouring/deepMedic/data_nifty/d_train/rois/HNC01_001_0001_roi.nii.gz'\n",
    "label2_path = '/homes/kovacs/project_data/hnc-auto-contouring/nnUNet/nnUNet_raw_data_base/nnUNet_raw_data/Task500_HNC01/labelsTr/HNC01_001.nii.gz'\n",
    "\n",
    "test = find_pix_dim_with_orientation(label1_path)\n"
   ]
  }
 ],
 "metadata": {
  "interpreter": {
   "hash": "3b8a107ed96a9532350195b4e1eefda7bd09e48c9645b8ba45f9f7b348b8b4f0"
  },
  "kernelspec": {
   "display_name": "Python 3.6.5 ('deep_medic_dgk1')",
   "language": "python",
   "name": "python3"
  },
  "language_info": {
   "codemirror_mode": {
    "name": "ipython",
    "version": 3
   },
   "file_extension": ".py",
   "mimetype": "text/x-python",
   "name": "python",
   "nbconvert_exporter": "python",
   "pygments_lexer": "ipython3",
   "version": "3.8.8"
  },
  "orig_nbformat": 4
 },
 "nbformat": 4,
 "nbformat_minor": 2
}

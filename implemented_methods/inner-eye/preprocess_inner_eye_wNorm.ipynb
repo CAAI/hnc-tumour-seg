{
 "cells": [
  {
   "cell_type": "markdown",
   "metadata": {},
   "source": [
    "### Inner Eye Deep learning framework implementation with normalization\n",
    "This is prepared following https://github.com/microsoft/InnerEye-DeepLearning/blob/main/docs/creating_dataset.md\n",
    "\n",
    "DeepMedic was preprocessed in a similar way as the data for InnerEye deep learning. Hence we will use the data preprocessed for DeepMedic and check adherence of the dataset to the InnerEye guidelines."
   ]
  },
  {
   "cell_type": "code",
   "execution_count": 1,
   "metadata": {},
   "outputs": [],
   "source": [
    "# Load packages\n",
    "from MEDIcaTe.file_folder_ops import *\n",
    "from MEDIcaTe.utilities import *\n",
    "from MEDIcaTe.nii_resampling import find_pix_dim_with_orientation\n",
    "import pandas as pd"
   ]
  },
  {
   "cell_type": "markdown",
   "metadata": {},
   "source": [
    "The requirements described at https://github.com/microsoft/InnerEye-DeepLearning/blob/main/docs/creating_dataset.md are already adhered to by data in normalized fashion in the folder\n",
    "/homes/kovacs/project_data/hnc-auto-contouring/deepMedic/data_nifti_as_deepmedic/train_normalized.\n",
    "\n",
    "These were created as a part of the pre-processing for DeepMedic. \n",
    "\n",
    "The guide specifies, that images should be encoded as float32 and labels as binary masks. \n",
    "So we will create a copy of the images where the datatypes are changed to these formats.\n",
    "\n",
    "We start by checking the current format of the data. "
   ]
  },
  {
   "cell_type": "code",
   "execution_count": 3,
   "metadata": {},
   "outputs": [],
   "source": [
    "path_to_train_dat = '/homes/kovacs/project_data/hnc-auto-contouring/deepMedic/data_nifti_as_deepmedic/train_normalized'\n",
    "path_to_image_folder_dst = '/homes/kovacs/project_data/hnc-auto-contouring/inner-eye/d_train_norm/images'\n",
    "path_to_label_folder_dst = '/homes/kovacs/project_data/hnc-auto-contouring/inner-eye/d_train_norm/labels'"
   ]
  },
  {
   "cell_type": "markdown",
   "metadata": {},
   "source": [
    "### Converting dataset format to float32 for images and int8 for labels"
   ]
  },
  {
   "cell_type": "code",
   "execution_count": null,
   "metadata": {},
   "outputs": [],
   "source": [
    "# This only needs to be run  once, så it is uncommented.\n",
    "# To run in background I used the file ./convert_dtypes.py\n",
    "# convert images to float32\n",
    "\n",
    "def convert_data_types(path_to_train_dat, path_to_image_folder_dst, path_to_label_folder_dst):\n",
    "    for i,fo in enumerate(listdir(path_to_train_dat)):\n",
    "        for fi in listdir(join(path_to_train_dat,fo)):\n",
    "            # copy images to image destination folder and convert to float32\n",
    "            if ('0000.nii.gz' in fi) | ('0001.nii.gz' in fi):\n",
    "                print(f'{fi} is PET or CT i.e. image. Converting to float32.')\n",
    "                convert_nii_to_float32(join(path_to_train_dat,fo,fi),join(path_to_image_folder_dst,fi))\n",
    "            \n",
    "            # copy labels to label destination folder and convert to int8\n",
    "            elif fi == f'{fo}.nii.gz':\n",
    "                print(f'{fi} is a tumor label file. Converting to int8.')\n",
    "                convert_nii_to_int8(join(path_to_train_dat,fo,fi),join(path_to_label_folder_dst,fi))\n",
    "\n",
    "# run only once.\n",
    "convert_data_types(path_to_train_dat, path_to_image_folder_dst, path_to_label_folder_dst)\n",
    "        "
   ]
  },
  {
   "cell_type": "markdown",
   "metadata": {},
   "source": [
    "### Generating the dataset.csv file"
   ]
  },
  {
   "cell_type": "code",
   "execution_count": null,
   "metadata": {},
   "outputs": [],
   "source": [
    "# Generate dataset.csv file\n",
    "'''\n",
    "This all depends on how you strucuted your files. This script works for my structure, which is:\n",
    "-- data\n",
    "    -- d_train\n",
    "        -- images\n",
    "            HNC01_000_0000.nii.gz\n",
    "            HNC01_000_0001.nii.gz\n",
    "            HNC01_001_0000.nii.gz\n",
    "            HNC01_001_0001.nii.gz\n",
    "            ...\n",
    "        -- labels\n",
    "            HNC01_000.nii.gz\n",
    "            HNC01_001.nii.gz\n",
    "            ...\n",
    "where the ending _0000.nii.gz are CT's and _0001.nii.gz are PET.\n",
    "'''\n",
    "path_labels = '/homes/kovacs/project_data/hnc-auto-contouring/inner-eye/d_train_norm/labels'\n",
    "path_images = '/homes/kovacs/project_data/hnc-auto-contouring/inner-eye/d_train_norm/images'\n",
    "\n",
    "path_to_dataset_csv = '/homes/kovacs/project_data/hnc-auto-contouring/inner-eye'\n",
    "\n",
    "# paths relative to lcation of dataset.csv:\n",
    "rel_path_labels = 'd_train_norm/labels'\n",
    "rel_path_images = 'd_train_norm/images'\n",
    "\n",
    "subject = []\n",
    "filePath = []\n",
    "channel = []\n",
    "\n",
    "for i,f in enumerate(listdir(path_labels)):\n",
    "    case_id = f[:-7]\n",
    "    # add ct line\n",
    "    filePath.append(join(rel_path_images,f'{case_id}_0000.nii.gz'))\n",
    "    channel.append('ct')\n",
    "    subject.append(i+1)\n",
    "\n",
    "    # add pet line\n",
    "    filePath.append(join(rel_path_images,f'{case_id}_0001.nii.gz'))\n",
    "    channel.append('pet')\n",
    "    subject.append(i+1)\n",
    "\n",
    "    # add label line\n",
    "    filePath.append(join(rel_path_labels,f'{case_id}.nii.gz'))\n",
    "    channel.append('tumor')\n",
    "    subject.append(i+1)\n",
    "\n",
    "out_dat = pd.DataFrame(list(zip(subject, filePath, channel)), columns =['subject', 'filePath', 'channel'])\n",
    "out_dat.to_csv(join(path_to_dataset_csv,'dataset.csv'),index=False)\n",
    "print(out_dat.head(15))"
   ]
  },
  {
   "cell_type": "markdown",
   "metadata": {},
   "source": [
    "### Adhering to the image size requirements\n",
    "We check that this dataset adheres to the image size requirements as presscribed at https://github.com/microsoft/InnerEye-DeepLearning/blob/main/docs/creating_dataset.md. "
   ]
  },
  {
   "cell_type": "code",
   "execution_count": null,
   "metadata": {},
   "outputs": [],
   "source": [
    "# Note: takes about 7 minutes to run for 8-900 cases.\n",
    "path_labels = '/homes/kovacs/project_data/hnc-auto-contouring/inner-eye/d_train_norm/labels'\n",
    "path_images = '/homes/kovacs/project_data/hnc-auto-contouring/inner-eye/d_train_norm/images'\n",
    "path_to_dataset_csv = '/homes/kovacs/project_data/hnc-auto-contouring/inner-eye'\n",
    "\n",
    "\n",
    "ct_dim_list = []\n",
    "pet_dim_list = []\n",
    "label_dim_list = []\n",
    "\n",
    "for i,f in enumerate(listdir(path_labels)):\n",
    "    case_id = f[:-7]\n",
    "\n",
    "    ct_file = join(path_images,f'{case_id}_0000.nii.gz')\n",
    "    pet_file = join(path_images,f'{case_id}_0001.nii.gz')\n",
    "    label_file = join(path_labels,f)\n",
    "    \n",
    "    ct_dim = find_pix_dim_with_orientation(ct_file)\n",
    "    pet_dim = find_pix_dim_with_orientation(pet_file)\n",
    "    label_dim = find_pix_dim_with_orientation(label_file)\n",
    "\n",
    "    ct_dim_list.append(ct_dim)\n",
    "    pet_dim_list.append(pet_dim)\n",
    "    label_dim_list.append(label_dim)\n",
    "\n",
    "out_dat = pd.DataFrame(list(zip(ct_dim_list, pet_dim_list, label_dim_list)), columns =['ct', 'pet', 'label'])\n",
    "out_dat.to_csv(join(path_to_dataset_csv,'image_dimensions_norm.csv'),index=False)\n"
   ]
  }
 ],
 "metadata": {
  "interpreter": {
   "hash": "f1e591f89a66dc1857e02e9b01422239acfadc435ccfe85a746b712ff53de6d3"
  },
  "kernelspec": {
   "display_name": "Python 3.7.3 ('InnerEye')",
   "language": "python",
   "name": "python3"
  },
  "language_info": {
   "codemirror_mode": {
    "name": "ipython",
    "version": 3
   },
   "file_extension": ".py",
   "mimetype": "text/x-python",
   "name": "python",
   "nbconvert_exporter": "python",
   "pygments_lexer": "ipython3",
   "version": "3.7.3"
  },
  "orig_nbformat": 4
 },
 "nbformat": 4,
 "nbformat_minor": 2
}

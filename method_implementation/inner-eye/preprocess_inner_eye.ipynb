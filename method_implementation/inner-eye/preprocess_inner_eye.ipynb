{
 "cells": [
  {
   "cell_type": "markdown",
   "metadata": {},
   "source": [
    "### Inner Eye Deep learning framework implementation\n",
    "This is prepared following https://github.com/microsoft/InnerEye-DeepLearning/blob/main/docs/creating_dataset.md\n",
    "\n",
    "Since nnUNet is already trained at this stage, we will simply create the `dataset.csv` file by referencing the raw data files in the nnUNet standard folder structure."
   ]
  },
  {
   "cell_type": "code",
   "execution_count": 12,
   "metadata": {},
   "outputs": [],
   "source": [
    "from MEDIcaTe.file_folder_ops import *\n",
    "from MEDIcaTe.utilities import *\n",
    "from MEDIcaTe.nii_resampling import find_pix_dim_with_orientation\n",
    "import pandas as pd"
   ]
  },
  {
   "cell_type": "markdown",
   "metadata": {},
   "source": [
    "The requirements described at https://github.com/microsoft/InnerEye-DeepLearning/blob/main/docs/creating_dataset.md are already adhered to by data in the folder\n",
    "'/homes/kovacs/project_data/hnc-auto-contouring/deepMedic/data_nifty/d_train_raw_data_base/images' and /homes/kovacs/project_data/hnc-auto-contouring/deepMedic/data_nifty/d_train_raw_data_base/labels. \n",
    "\n",
    "These were created as a part of the pre-processing for DeepMedic. \n",
    "\n",
    "The guide specifies, that images should be encoded as float32 and labels as binary masks. \n",
    "So we will create a copy of the images where the datatypes are changed to these formats.\n",
    "\n",
    "We start by checking the current format of the data. "
   ]
  },
  {
   "cell_type": "code",
   "execution_count": 3,
   "metadata": {},
   "outputs": [],
   "source": [
    "path_to_image_folder_src = '/homes/kovacs/project_data/hnc-auto-contouring/deepMedic/data_nifty/d_train_raw_data_base/images'\n",
    "path_to_label_folder_src = '/homes/kovacs/project_data/hnc-auto-contouring/deepMedic/data_nifty/d_train_raw_data_base/labels'\n",
    "\n",
    "path_to_image_folder_dst = '/homes/kovacs/project_data/hnc-auto-contouring/inner-eye/d_train/images'\n",
    "path_to_label_folder_dst = '/homes/kovacs/project_data/hnc-auto-contouring/inner-eye/d_train/labels'"
   ]
  },
  {
   "cell_type": "markdown",
   "metadata": {},
   "source": [
    "### Converting dataset format to float32 for images and int8 for labels"
   ]
  },
  {
   "cell_type": "code",
   "execution_count": 5,
   "metadata": {},
   "outputs": [],
   "source": [
    "# This only needs to be run  once, så it is uncommented.\n",
    "# To run in background I used the file ./convert_dtypes.py\n",
    "# convert images to float32\n",
    "'''\n",
    "for i,fi in enumerate(listdir(path_to_image_folder_src)):\n",
    "    path_to_nii_src = join(path_to_image_folder_src,fi)\n",
    "    path_to_nii_dst = join(path_to_image_folder_dst,fi)\n",
    "\n",
    "    convert_nii_to_float32(s,path_to_nii_dst)\n",
    "    if i > 1:\n",
    "        break\n",
    "\n",
    "# convert labels to int8\n",
    "for i,fi in enumerate(listdir(path_to_label_folder_src)):\n",
    "    path_to_nii_src = join(path_to_label_folder_src,fi)\n",
    "    path_to_nii_dst = join(path_to_label_folder_dst,fi)\n",
    "    convert_nii_to_int8(path_to_nii_src,path_to_nii_dst)\n",
    "    if i > 1:\n",
    "        break\n",
    "'''"
   ]
  },
  {
   "cell_type": "markdown",
   "metadata": {},
   "source": [
    "### Generating the dataset.csv file"
   ]
  },
  {
   "cell_type": "code",
   "execution_count": 6,
   "metadata": {},
   "outputs": [],
   "source": [
    "# Generate dataset.csv file\n",
    "'''\n",
    "This all depends on how you strucuted your files. This script works for my structure, which is:\n",
    "-- data\n",
    "    -- d_train\n",
    "        -- images\n",
    "            HNC01_000_0000.nii.gz\n",
    "            HNC01_000_0001.nii.gz\n",
    "            HNC01_001_0000.nii.gz\n",
    "            HNC01_001_0001.nii.gz\n",
    "            ...\n",
    "        -- labels\n",
    "            HNC01_000.nii.gz\n",
    "            HNC01_001.nii.gz\n",
    "            ...\n",
    "where the ending _0000.nii.gz are CT's and _0001.nii.gz are PET.\n",
    "'''\n",
    "path_labels = '/homes/kovacs/project_data/hnc-auto-contouring/inner-eye/d_train/labels'\n",
    "path_images = '/homes/kovacs/project_data/hnc-auto-contouring/inner-eye/d_train/images'\n",
    "\n",
    "path_to_dataset_csv = '/homes/kovacs/project_data/hnc-auto-contouring/inner-eye'\n",
    "\n",
    "# paths relative to lcation of dataset.csv:\n",
    "rel_path_labels = 'd_train/labels'\n",
    "rel_path_images = 'd_train/images'\n",
    "\n",
    "subject = []\n",
    "filePath = []\n",
    "channel = []\n",
    "\n",
    "for i,f in enumerate(listdir(path_labels)):\n",
    "    case_id = f[:-7]\n",
    "    # add ct line\n",
    "    filePath.append(join(rel_path_images,f'{case_id}_0000.nii.gz'))\n",
    "    channel.append('ct')\n",
    "    subject.append(i+1)\n",
    "\n",
    "    # add pet line\n",
    "    filePath.append(join(rel_path_images,f'{case_id}_0001.nii.gz'))\n",
    "    channel.append('pet')\n",
    "    subject.append(i+1)\n",
    "\n",
    "    # add label line\n",
    "    filePath.append(join(rel_path_labels,f'{case_id}.nii.gz'))\n",
    "    channel.append('structure1')\n",
    "    subject.append(i+1)\n",
    "\n",
    "out_dat = pd.DataFrame(list(zip(subject, filePath, channel)), columns =['subject', 'filePath', 'channel'])\n",
    "out_dat.to_csv(join(path_to_dataset_csv,'dataset.csv'),index=False)"
   ]
  },
  {
   "cell_type": "code",
   "execution_count": 10,
   "metadata": {},
   "outputs": [
    {
     "name": "stdout",
     "output_type": "stream",
     "text": [
      "    subject                              filePath     channel\n",
      "0         1  d_train/images/HNC01_000_0000.nii.gz          ct\n",
      "1         1  d_train/images/HNC01_000_0001.nii.gz         pet\n",
      "2         1       d_train/labels/HNC01_000.nii.gz  structure1\n",
      "3         2  d_train/images/HNC01_001_0000.nii.gz          ct\n",
      "4         2  d_train/images/HNC01_001_0001.nii.gz         pet\n",
      "5         2       d_train/labels/HNC01_001.nii.gz  structure1\n",
      "6         3  d_train/images/HNC01_002_0000.nii.gz          ct\n",
      "7         3  d_train/images/HNC01_002_0001.nii.gz         pet\n",
      "8         3       d_train/labels/HNC01_002.nii.gz  structure1\n",
      "9         4  d_train/images/HNC01_003_0000.nii.gz          ct\n",
      "10        4  d_train/images/HNC01_003_0001.nii.gz         pet\n",
      "11        4       d_train/labels/HNC01_003.nii.gz  structure1\n",
      "12        5  d_train/images/HNC01_004_0000.nii.gz          ct\n",
      "13        5  d_train/images/HNC01_004_0001.nii.gz         pet\n",
      "14        5       d_train/labels/HNC01_004.nii.gz  structure1\n"
     ]
    }
   ],
   "source": [
    "# a quick print to see the result\n",
    "print(out_dat.head(15))"
   ]
  },
  {
   "cell_type": "markdown",
   "metadata": {},
   "source": [
    "### Adhering to the image size requirements\n",
    "We check that this dataset adheres to the image size requirements as presscribed at https://github.com/microsoft/InnerEye-DeepLearning/blob/main/docs/creating_dataset.md. "
   ]
  },
  {
   "cell_type": "code",
   "execution_count": null,
   "metadata": {},
   "outputs": [],
   "source": [
    "# Note: takes about 7 minutes to run for 8-900 cases.\n",
    "path_labels = '/homes/kovacs/project_data/hnc-auto-contouring/inner-eye/d_train/labels'\n",
    "path_images = '/homes/kovacs/project_data/hnc-auto-contouring/inner-eye/d_train/images'\n",
    "path_to_dataset_csv = '/homes/kovacs/project_data/hnc-auto-contouring/inner-eye'\n",
    "\n",
    "\n",
    "ct_dim_list = []\n",
    "pet_dim_list = []\n",
    "label_dim_list = []\n",
    "\n",
    "for i,f in enumerate(listdir(path_labels)):\n",
    "    case_id = f[:-7]\n",
    "\n",
    "    ct_file = join(path_images,f'{case_id}_0000.nii.gz')\n",
    "    pet_file = join(path_images,f'{case_id}_0001.nii.gz')\n",
    "    label_file = join(path_labels,f)\n",
    "    \n",
    "    ct_dim = find_pix_dim_with_orientation(ct_file)\n",
    "    pet_dim = find_pix_dim_with_orientation(pet_file)\n",
    "    label_dim = find_pix_dim_with_orientation(label_file)\n",
    "\n",
    "    ct_dim_list.append(ct_dim)\n",
    "    pet_dim_list.append(pet_dim)\n",
    "    label_dim_list.append(label_dim)\n",
    "\n",
    "out_dat = pd.DataFrame(list(zip(ct_dim_list, pet_dim_list, label_dim_list)), columns =['ct', 'pet', 'label'])\n",
    "out_dat.to_csv(join(path_to_dataset_csv,'image_dimensions.csv'),index=False)\n"
   ]
  }
 ],
 "metadata": {
  "interpreter": {
   "hash": "f1e591f89a66dc1857e02e9b01422239acfadc435ccfe85a746b712ff53de6d3"
  },
  "kernelspec": {
   "display_name": "Python 3.7.3 ('InnerEye')",
   "language": "python",
   "name": "python3"
  },
  "language_info": {
   "codemirror_mode": {
    "name": "ipython",
    "version": 3
   },
   "file_extension": ".py",
   "mimetype": "text/x-python",
   "name": "python",
   "nbconvert_exporter": "python",
   "pygments_lexer": "ipython3",
   "version": "3.7.3"
  },
  "orig_nbformat": 4
 },
 "nbformat": 4,
 "nbformat_minor": 2
}
